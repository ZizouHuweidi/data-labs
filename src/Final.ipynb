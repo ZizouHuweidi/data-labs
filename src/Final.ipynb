{
 "cells": [
  {
   "cell_type": "markdown",
   "metadata": {},
   "source": [
    "# Detecting Insults in Social Commentary\n",
    "\n",
    "## Description\n",
    "Analysing the use of insults in social media platforms\n",
    "\n",
    "## Columns Description\n",
    "- insults: two possible outputs (0, 1). 0 means no insults, 1 means it contains insults\n",
    "- date: the date of the comment\n",
    "- comment: the comment being analysed\n",
    "\n",
    "## Objectives\n",
    "- To be determined\n",
    "\n",
    "\n"
   ]
  }
 ],
 "metadata": {
  "language_info": {
   "name": "python"
  },
  "orig_nbformat": 4
 },
 "nbformat": 4,
 "nbformat_minor": 2
}
