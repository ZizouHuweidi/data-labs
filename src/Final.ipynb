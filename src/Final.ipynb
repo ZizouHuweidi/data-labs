{
  "cells": [
    {
      "cell_type": "markdown",
      "metadata": {
        "id": "dEzndDccyXxT"
      },
      "source": [
        "# Detecting Insults in Social Commentary\n",
        "\n",
        "## 1. Business Understanding\n",
        "\n",
        "### 1.1 Project description\n",
        "Analyzing data related to insults found in social commentary to provide valuable insights into the use of language, sentiment, and discourse patterns in online discussions.\n",
        "\n",
        "Predict whether a comment posted during a public discussion is considered insulting to one of the participants.\n",
        "\n",
        "### 1.2 Project objectives\n",
        "- To provide valuable insights into the use of language, sentiment, and discourse patterns in online discussions.\n",
        "- To classify into insults and not insults\n",
        "- To conduct a basic frequency analysis to identify the most common insults used in social commentary. This can help pinpoint which insults are more prevalent.\n",
        "\n",
        "## 2. Data Understanding\n",
        "\n",
        "### 2.1. Importing and exploring the data\n"
      ]
    },
    {
      "cell_type": "code",
      "execution_count": 1,
      "metadata": {},
      "outputs": [],
      "source": [
        "# imports\n",
        "\n",
        "import pandas as pd\n",
        "from wordcloud import WordCloud\n",
        "import matplotlib.pyplot as plt\n",
        "import re\n",
        "\n",
        "import nltk\n",
        "from nltk.corpus import stopwords\n",
        "\n",
        "from sklearn.model_selection import train_test_split\n",
        "\n",
        "from sklearn.linear_model import LogisticRegression\n",
        "from sklearn.neighbors import KNeighborsClassifier\n",
        "from sklearn.feature_extraction.text import TfidfVectorizer\n",
        "\n",
        "import numpy as np\n"
      ]
    },
    {
      "cell_type": "code",
      "execution_count": 2,
      "metadata": {
        "colab": {
          "base_uri": "https://localhost:8080/",
          "height": 676
        },
        "id": "9eTtQMyEyXxU",
        "outputId": "eac0b594-cbbc-4e7a-a735-a4866a1d64d1"
      },
      "outputs": [
        {
          "data": {
            "text/html": [
              "<div>\n",
              "<style scoped>\n",
              "    .dataframe tbody tr th:only-of-type {\n",
              "        vertical-align: middle;\n",
              "    }\n",
              "\n",
              "    .dataframe tbody tr th {\n",
              "        vertical-align: top;\n",
              "    }\n",
              "\n",
              "    .dataframe thead th {\n",
              "        text-align: right;\n",
              "    }\n",
              "</style>\n",
              "<table border=\"1\" class=\"dataframe\">\n",
              "  <thead>\n",
              "    <tr style=\"text-align: right;\">\n",
              "      <th></th>\n",
              "      <th>Insult</th>\n",
              "      <th>Comment</th>\n",
              "    </tr>\n",
              "  </thead>\n",
              "  <tbody>\n",
              "    <tr>\n",
              "      <th>0</th>\n",
              "      <td>1</td>\n",
              "      <td>\"You fuck your dad.\"</td>\n",
              "    </tr>\n",
              "    <tr>\n",
              "      <th>1</th>\n",
              "      <td>0</td>\n",
              "      <td>\"i really don't understand your point.\\xa0 It ...</td>\n",
              "    </tr>\n",
              "    <tr>\n",
              "      <th>2</th>\n",
              "      <td>0</td>\n",
              "      <td>\"A\\\\xc2\\\\xa0majority of Canadians can and has ...</td>\n",
              "    </tr>\n",
              "    <tr>\n",
              "      <th>3</th>\n",
              "      <td>0</td>\n",
              "      <td>\"listen if you dont wanna get married to a man...</td>\n",
              "    </tr>\n",
              "    <tr>\n",
              "      <th>4</th>\n",
              "      <td>0</td>\n",
              "      <td>\"C\\xe1c b\\u1ea1n xu\\u1ed1ng \\u0111\\u01b0\\u1edd...</td>\n",
              "    </tr>\n",
              "    <tr>\n",
              "      <th>5</th>\n",
              "      <td>0</td>\n",
              "      <td>\"@SDL OK, but I would hope they'd sign him to ...</td>\n",
              "    </tr>\n",
              "    <tr>\n",
              "      <th>6</th>\n",
              "      <td>0</td>\n",
              "      <td>\"Yeah and where are you now?\"</td>\n",
              "    </tr>\n",
              "    <tr>\n",
              "      <th>7</th>\n",
              "      <td>1</td>\n",
              "      <td>\"shut the fuck up. you and the rest of your fa...</td>\n",
              "    </tr>\n",
              "    <tr>\n",
              "      <th>8</th>\n",
              "      <td>1</td>\n",
              "      <td>\"Either you are fake or extremely stupid...may...</td>\n",
              "    </tr>\n",
              "    <tr>\n",
              "      <th>9</th>\n",
              "      <td>1</td>\n",
              "      <td>\"That you are an idiot who understands neither...</td>\n",
              "    </tr>\n",
              "    <tr>\n",
              "      <th>10</th>\n",
              "      <td>0</td>\n",
              "      <td>\"@jdstorm dont wish him injury but it happened...</td>\n",
              "    </tr>\n",
              "    <tr>\n",
              "      <th>11</th>\n",
              "      <td>0</td>\n",
              "      <td>\"Be careful,Jimbo.OG has a fork with your name...</td>\n",
              "    </tr>\n",
              "    <tr>\n",
              "      <th>12</th>\n",
              "      <td>0</td>\n",
              "      <td>\"@tonnyb  Or they just don't pay attention \"</td>\n",
              "    </tr>\n",
              "    <tr>\n",
              "      <th>13</th>\n",
              "      <td>0</td>\n",
              "      <td>\"Hmmm. Perhaps some who are too pig-faced to g...</td>\n",
              "    </tr>\n",
              "    <tr>\n",
              "      <th>14</th>\n",
              "      <td>0</td>\n",
              "      <td>\"@barrettmarson Huh? Her income was $21,912. H...</td>\n",
              "    </tr>\n",
              "    <tr>\n",
              "      <th>15</th>\n",
              "      <td>1</td>\n",
              "      <td>\"FOR SOME REASON U SOUND RETARDED. LOL. DAMN. ...</td>\n",
              "    </tr>\n",
              "    <tr>\n",
              "      <th>16</th>\n",
              "      <td>1</td>\n",
              "      <td>\"You with the 'racist' screen name\\n\\nYou are ...</td>\n",
              "    </tr>\n",
              "    <tr>\n",
              "      <th>17</th>\n",
              "      <td>0</td>\n",
              "      <td>\"Oh! &amp; cheating as well...1966 cup was a cheat...</td>\n",
              "    </tr>\n",
              "    <tr>\n",
              "      <th>18</th>\n",
              "      <td>1</td>\n",
              "      <td>\"your such a dickhead...\"</td>\n",
              "    </tr>\n",
              "    <tr>\n",
              "      <th>19</th>\n",
              "      <td>1</td>\n",
              "      <td>\"Your a retard go post your head up your #%&amp;*\"</td>\n",
              "    </tr>\n",
              "  </tbody>\n",
              "</table>\n",
              "</div>"
            ],
            "text/plain": [
              "    Insult                                            Comment\n",
              "0        1                               \"You fuck your dad.\"\n",
              "1        0  \"i really don't understand your point.\\xa0 It ...\n",
              "2        0  \"A\\\\xc2\\\\xa0majority of Canadians can and has ...\n",
              "3        0  \"listen if you dont wanna get married to a man...\n",
              "4        0  \"C\\xe1c b\\u1ea1n xu\\u1ed1ng \\u0111\\u01b0\\u1edd...\n",
              "5        0  \"@SDL OK, but I would hope they'd sign him to ...\n",
              "6        0                      \"Yeah and where are you now?\"\n",
              "7        1  \"shut the fuck up. you and the rest of your fa...\n",
              "8        1  \"Either you are fake or extremely stupid...may...\n",
              "9        1  \"That you are an idiot who understands neither...\n",
              "10       0  \"@jdstorm dont wish him injury but it happened...\n",
              "11       0  \"Be careful,Jimbo.OG has a fork with your name...\n",
              "12       0       \"@tonnyb  Or they just don't pay attention \"\n",
              "13       0  \"Hmmm. Perhaps some who are too pig-faced to g...\n",
              "14       0  \"@barrettmarson Huh? Her income was $21,912. H...\n",
              "15       1  \"FOR SOME REASON U SOUND RETARDED. LOL. DAMN. ...\n",
              "16       1  \"You with the 'racist' screen name\\n\\nYou are ...\n",
              "17       0  \"Oh! & cheating as well...1966 cup was a cheat...\n",
              "18       1                          \"your such a dickhead...\"\n",
              "19       1     \"Your a retard go post your head up your #%&*\""
            ]
          },
          "execution_count": 2,
          "metadata": {},
          "output_type": "execute_result"
        }
      ],
      "source": [
        "df = pd.concat([pd.read_csv('../data/train.csv'),pd.read_csv('../data/test_with_solutions.csv')]).drop(columns=[\"Date\", \"Usage\"])\n",
        "\n",
        "df.head(20)"
      ]
    },
    {
      "cell_type": "markdown",
      "metadata": {
        "id": "6Bt4NaXR5FCZ"
      },
      "source": [
        "### 2.2.1 Columns description\n",
        "\n",
        "- insults: two possible outputs (0, 1). 0 means no insults, 1 means it contains insults (based on the presence of insult words, not accurate)\n",
        "- date: the date of the comment\n",
        "- comment: the comment being analyzed"
      ]
    },
    {
      "cell_type": "code",
      "execution_count": 3,
      "metadata": {
        "colab": {
          "base_uri": "https://localhost:8080/",
          "height": 524
        },
        "id": "l62UfNXEyXxV",
        "outputId": "8883406a-6dea-4832-afa2-7e4ed6240cce"
      },
      "outputs": [
        {
          "name": "stdout",
          "output_type": "stream",
          "text": [
            "Insult\n",
            "0    4852\n",
            "1    1742\n",
            "Name: count, dtype: int64\n"
          ]
        },
        {
          "data": {
            "image/png": "[encoded data removed]",
            "text/plain": [
              "<Figure size 432x288 with 1 Axes>"
            ]
          },
          "metadata": {
            "needs_background": "light"
          },
          "output_type": "display_data"
        }
      ],
      "source": [
        "# from Insults, show me how many 1 and 0 i have\n",
        "num = df['Insult'].value_counts()\n",
        "\n",
        "print(num)\n",
        "\n",
        "plot = pd.DataFrame({'Comments':['No Insults', 'Insults'], 'val':[num[0], num[1]]})\n",
        "ax = plot.plot.bar(title='Number of insults',x='Comments', y='val', rot=0)\n"
      ]
    },
    {
      "cell_type": "markdown",
      "metadata": {
        "id": "iwhDPYyZ5UFo"
      },
      "source": [
        "### 3.2. Data visualization\n",
        "\n",
        "#### Visualise the data in a wordcloud"
      ]
    },
    {
      "cell_type": "code",
      "execution_count": 4,
      "metadata": {
        "colab": {
          "base_uri": "https://localhost:8080/"
        },
        "id": "cD7Gy0SRyXxV",
        "outputId": "7d66b17e-1796-4ec0-9148-fa8b0449c7d6"
      },
      "outputs": [
        {
          "data": {
            "text/plain": [
              "(1742, 2)"
            ]
          },
          "execution_count": 4,
          "metadata": {},
          "output_type": "execute_result"
        }
      ],
      "source": [
        "# df.dropna(inplace=True)\n",
        "df_clean = df[df['Insult'] != 0]\n",
        "df_clean.head(20)\n",
        "df_clean.shape\n"
      ]
    },
    {
      "cell_type": "code",
      "execution_count": 5,
      "metadata": {
        "colab": {
          "base_uri": "https://localhost:8080/",
          "height": 313
        },
        "id": "z-ChYQFMyXxV",
        "outputId": "fdf28187-4259-4ed9-d639-0f0bdef1e3a7"
      },
      "outputs": [
        {
          "data": {
            "image/png": "[encoded data removed]",
            "text/plain": [
              "<Figure size 432x288 with 1 Axes>"
            ]
          },
          "metadata": {
            "needs_background": "light"
          },
          "output_type": "display_data"
        }
      ],
      "source": [
        "text = df_clean['Comment'].to_string(index=False)\n",
        "processed_text = re.sub(r'\\bxa0\\b', '', text)\n",
        "\n",
        "wordcloud = WordCloud(max_words=25, min_word_length=3, ).generate(processed_text)\n",
        "\n",
        "plt.imshow(wordcloud, interpolation=\"bilinear\")\n",
        "plt.show()"
      ]
    },
    {
      "cell_type": "markdown",
      "metadata": {
        "id": "HtcU_KRy5eLq"
      },
      "source": [
        "## 3. Data preparation and pre-processing\n",
        "\n",
        "### 3.1. Data cleaning"
      ]
    },
    {
      "cell_type": "code",
      "execution_count": 6,
      "metadata": {
        "colab": {
          "base_uri": "https://localhost:8080/",
          "height": 780
        },
        "id": "6iECJcJ4yXxW",
        "outputId": "b643c870-84c8-4eaf-d1da-8f05404a0e0f"
      },
      "outputs": [
        {
          "name": "stderr",
          "output_type": "stream",
          "text": [
            "[nltk_data] Downloading package punkt to\n",
            "[nltk_data]     C:\\Users\\yahbo\\AppData\\Roaming\\nltk_data...\n",
            "[nltk_data]   Package punkt is already up-to-date!\n",
            "[nltk_data] Downloading package stopwords to\n",
            "[nltk_data]     C:\\Users\\yahbo\\AppData\\Roaming\\nltk_data...\n",
            "[nltk_data]   Package stopwords is already up-to-date!\n",
            "[nltk_data] Downloading package wordnet to\n",
            "[nltk_data]     C:\\Users\\yahbo\\AppData\\Roaming\\nltk_data...\n",
            "[nltk_data]   Package wordnet is already up-to-date!\n"
          ]
        },
        {
          "data": {
            "text/html": [
              "<div>\n",
              "<style scoped>\n",
              "    .dataframe tbody tr th:only-of-type {\n",
              "        vertical-align: middle;\n",
              "    }\n",
              "\n",
              "    .dataframe tbody tr th {\n",
              "        vertical-align: top;\n",
              "    }\n",
              "\n",
              "    .dataframe thead th {\n",
              "        text-align: right;\n",
              "    }\n",
              "</style>\n",
              "<table border=\"1\" class=\"dataframe\">\n",
              "  <thead>\n",
              "    <tr style=\"text-align: right;\">\n",
              "      <th></th>\n",
              "      <th>Insult</th>\n",
              "      <th>Comment</th>\n",
              "    </tr>\n",
              "  </thead>\n",
              "  <tbody>\n",
              "    <tr>\n",
              "      <th>0</th>\n",
              "      <td>1</td>\n",
              "      <td>You fuck your dad</td>\n",
              "    </tr>\n",
              "    <tr>\n",
              "      <th>1</th>\n",
              "      <td>0</td>\n",
              "      <td>i really dont understand your pointxa It seems...</td>\n",
              "    </tr>\n",
              "    <tr>\n",
              "      <th>2</th>\n",
              "      <td>0</td>\n",
              "      <td>Axcxamajority of Canadians can and has been wr...</td>\n",
              "    </tr>\n",
              "    <tr>\n",
              "      <th>3</th>\n",
              "      <td>0</td>\n",
              "      <td>listen if you dont wanna get married to a man ...</td>\n",
              "    </tr>\n",
              "    <tr>\n",
              "      <th>4</th>\n",
              "      <td>0</td>\n",
              "      <td>Cxec buean xuuedng uubueddng biuecu txecnh  cx...</td>\n",
              "    </tr>\n",
              "    <tr>\n",
              "      <th>5</th>\n",
              "      <td>0</td>\n",
              "      <td>SDL OK but I would hope theyd sign him to a on...</td>\n",
              "    </tr>\n",
              "    <tr>\n",
              "      <th>6</th>\n",
              "      <td>0</td>\n",
              "      <td>Yeah and where are you now</td>\n",
              "    </tr>\n",
              "    <tr>\n",
              "      <th>7</th>\n",
              "      <td>1</td>\n",
              "      <td>shut the fuck up you and the rest of your fagg...</td>\n",
              "    </tr>\n",
              "    <tr>\n",
              "      <th>8</th>\n",
              "      <td>1</td>\n",
              "      <td>Either you are fake or extremely stupidmaybe both</td>\n",
              "    </tr>\n",
              "    <tr>\n",
              "      <th>9</th>\n",
              "      <td>1</td>\n",
              "      <td>That you are an idiot who understands neither ...</td>\n",
              "    </tr>\n",
              "    <tr>\n",
              "      <th>10</th>\n",
              "      <td>0</td>\n",
              "      <td>jdstorm dont wish him injury but it happened o...</td>\n",
              "    </tr>\n",
              "    <tr>\n",
              "      <th>11</th>\n",
              "      <td>0</td>\n",
              "      <td>Be carefulJimboOG has a fork with your name on it</td>\n",
              "    </tr>\n",
              "    <tr>\n",
              "      <th>12</th>\n",
              "      <td>0</td>\n",
              "      <td>tonnyb  Or they just dont pay attention</td>\n",
              "    </tr>\n",
              "    <tr>\n",
              "      <th>13</th>\n",
              "      <td>0</td>\n",
              "      <td>Hmmm Perhaps some who are too pigfaced to get ...</td>\n",
              "    </tr>\n",
              "    <tr>\n",
              "      <th>14</th>\n",
              "      <td>0</td>\n",
              "      <td>barrettmarson Huh Her income was  Her spending...</td>\n",
              "    </tr>\n",
              "    <tr>\n",
              "      <th>15</th>\n",
              "      <td>1</td>\n",
              "      <td>FOR SOME REASON U SOUND RETARDED LOL DAMN WHER...</td>\n",
              "    </tr>\n",
              "    <tr>\n",
              "      <th>16</th>\n",
              "      <td>1</td>\n",
              "      <td>You with the racist screen namennYou are a Pie...</td>\n",
              "    </tr>\n",
              "    <tr>\n",
              "      <th>17</th>\n",
              "      <td>0</td>\n",
              "      <td>Oh  cheating as well cup was a cheat fest  you...</td>\n",
              "    </tr>\n",
              "    <tr>\n",
              "      <th>18</th>\n",
              "      <td>1</td>\n",
              "      <td>your such a dickhead</td>\n",
              "    </tr>\n",
              "    <tr>\n",
              "      <th>19</th>\n",
              "      <td>1</td>\n",
              "      <td>Your a retard go post your head up your</td>\n",
              "    </tr>\n",
              "  </tbody>\n",
              "</table>\n",
              "</div>"
            ],
            "text/plain": [
              "    Insult                                            Comment\n",
              "0        1                                  You fuck your dad\n",
              "1        0  i really dont understand your pointxa It seems...\n",
              "2        0  Axcxamajority of Canadians can and has been wr...\n",
              "3        0  listen if you dont wanna get married to a man ...\n",
              "4        0  Cxec buean xuuedng uubueddng biuecu txecnh  cx...\n",
              "5        0  SDL OK but I would hope theyd sign him to a on...\n",
              "6        0                         Yeah and where are you now\n",
              "7        1  shut the fuck up you and the rest of your fagg...\n",
              "8        1  Either you are fake or extremely stupidmaybe both\n",
              "9        1  That you are an idiot who understands neither ...\n",
              "10       0  jdstorm dont wish him injury but it happened o...\n",
              "11       0  Be carefulJimboOG has a fork with your name on it\n",
              "12       0           tonnyb  Or they just dont pay attention \n",
              "13       0  Hmmm Perhaps some who are too pigfaced to get ...\n",
              "14       0  barrettmarson Huh Her income was  Her spending...\n",
              "15       1  FOR SOME REASON U SOUND RETARDED LOL DAMN WHER...\n",
              "16       1  You with the racist screen namennYou are a Pie...\n",
              "17       0  Oh  cheating as well cup was a cheat fest  you...\n",
              "18       1                               your such a dickhead\n",
              "19       1           Your a retard go post your head up your "
            ]
          },
          "execution_count": 6,
          "metadata": {},
          "output_type": "execute_result"
        }
      ],
      "source": [
        "# Download the required resources\n",
        "nltk.download('punkt')\n",
        "nltk.download('stopwords')\n",
        "nltk.download('wordnet')\n",
        "\n",
        "def clean_text(text):\n",
        "    cleaned_text = re.sub(r'[^a-zA-Z\\s]', '', text)\n",
        "    return cleaned_text\n",
        "\n",
        "df['Comment'] = df['Comment'].apply(clean_text)\n",
        "\n",
        "df.head(20)"
      ]
    },
    {
      "cell_type": "markdown",
      "metadata": {
        "id": "u5-dtS225zUn"
      },
      "source": [
        "### 3.2 Data splitting"
      ]
    },
    {
      "cell_type": "code",
      "execution_count": 7,
      "metadata": {
        "id": "vtcjcK_otXfo"
      },
      "outputs": [],
      "source": [
        "train, test = train_test_split(df, test_size=0.3)"
      ]
    },
    {
      "cell_type": "markdown",
      "metadata": {
        "id": "iLN4I_6N55TF"
      },
      "source": [
        "### 3.4 Data transformation and feature selection"
      ]
    },
    {
      "cell_type": "code",
      "execution_count": 8,
      "metadata": {
        "id": "3FFUqfQ7fy9p"
      },
      "outputs": [],
      "source": [
        "\n",
        "\n",
        "tfidf_w = TfidfVectorizer(ngram_range=(1, 3), analyzer='word', use_idf=False, max_features=50000)\n",
        "tfidf_c = TfidfVectorizer(ngram_range=(3, 10), analyzer='char', use_idf=False, max_features=100000)\n",
        "\n",
        "ptrain_data_w = tfidf_w.fit_transform(train[\"Comment\"])\n",
        "ptrain_data_c = tfidf_c.fit_transform(train[\"Comment\"])\n",
        "\n",
        "ptest_data_w = tfidf_w.transform(test[\"Comment\"])\n",
        "ptest_data_c = tfidf_c.transform(test['Comment'])\n"
      ]
    },
    {
      "cell_type": "markdown",
      "metadata": {
        "id": "Bf_X_Fgu6CJl"
      },
      "source": [
        "## 4. Modeling\n",
        "### 4.1. Logestic regression"
      ]
    },
    {
      "cell_type": "code",
      "execution_count": 9,
      "metadata": {
        "colab": {
          "base_uri": "https://localhost:8080/"
        },
        "id": "ae0KvXsqyXxW",
        "outputId": "1931d28c-4086-47d5-d353-2f48cfb2a311"
      },
      "outputs": [
        {
          "name": "stdout",
          "output_type": "stream",
          "text": [
            "Logistic Regression (Word Gram): 0.8292066700353714\n",
            "Logistic Regression (Character Gram): 0.8453764527539162\n"
          ]
        }
      ],
      "source": [
        "insult_lr_w = LogisticRegression()\n",
        "insult_lr_w.fit(ptrain_data_w, train[\"Insult\"])\n",
        "\n",
        "insult_lr_c = LogisticRegression()\n",
        "insult_lr_c.fit(ptrain_data_c, train[\"Insult\"])\n",
        "\n",
        "predicted_lr_w = insult_lr_w.predict(ptest_data_w)\n",
        "predicted_lr_c = insult_lr_c.predict(ptest_data_c)\n",
        "\n",
        "print('Logistic Regression (Word Gram):', np.mean(predicted_lr_w == test[\"Insult\"]))\n",
        "print('Logistic Regression (Character Gram):', np.mean(predicted_lr_c == test[\"Insult\"]))\n",
        "\n"
      ]
    },
    {
      "cell_type": "markdown",
      "metadata": {
        "id": "nIG_gvcrlF-e"
      },
      "source": [
        "## Feature importance plot:\n",
        "\n",
        "The Feature Importance Plot generated from the logistic regression model displays the relative importance of different features in predicting insults vs. non-insults.\n",
        "\n",
        "- X-axis: Represents the magnitude of importance or influence that each feature has on the model's predictions.\n",
        "- Y-axis: Lists the names or labels of the features sorted by their importance, from least to most influential.\n",
        "\n",
        "Each horizontal bar in the plot represents a feature, and its length illustrates the magnitude of its importance. Longer bars indicate features that have a more substantial impact on the model's predictions. This visualization helps identify which specific features are the most influential in determining whether a comment is classified as an insult or not, based on the logistic regression model's coefficients."
      ]
    },
    {
      "cell_type": "markdown",
      "metadata": {
        "id": "k1uqmtx86TGa"
      },
      "source": [
        "# Word based TF-IDF"
      ]
    },
    {
      "cell_type": "code",
      "execution_count": 10,
      "metadata": {
        "colab": {
          "base_uri": "https://localhost:8080/",
          "height": 607
        },
        "id": "v_TxYOUXtNSa",
        "outputId": "8b3c9823-a4e3-49b2-aa94-683d5ad1d475"
      },
      "outputs": [
        {
          "data": {
            "image/png": "[encoded data removed]",
            "text/plain": [
              "<Figure size 576x432 with 1 Axes>"
            ]
          },
          "metadata": {
            "needs_background": "light"
          },
          "output_type": "display_data"
        }
      ],
      "source": [
        "feature_importance = insult_lr_w.coef_[0]\n",
        "\n",
        "actual_feature_names = tfidf_w.get_feature_names_out()\n",
        "\n",
        "# Sort feature importance and corresponding names\n",
        "sorted_idx = np.argsort(np.abs(feature_importance))\n",
        "sorted_feature_importance = feature_importance[sorted_idx]\n",
        "sorted_actual_feature_names = np.array(actual_feature_names)[sorted_idx]\n",
        "\n",
        "# Get the indices of top N features based on their importance\n",
        "top_n = 20  # Number of top features to display\n",
        "top_indices = sorted_idx[-top_n:]\n",
        "top_feature_importance = sorted_feature_importance[-top_n:]\n",
        "top_feature_names = sorted_actual_feature_names[-top_n:]\n",
        "\n",
        "# Plotting top N feature importance\n",
        "plt.figure(figsize=(8, 6))  # Adjust figure size if needed\n",
        "plt.barh(range(len(top_feature_importance)), top_feature_importance, align='center')\n",
        "plt.yticks(range(len(top_feature_importance)), top_feature_names)\n",
        "\n",
        "# Rotate Y-axis labels for better readability\n",
        "plt.tick_params(axis='y', rotation=0)\n",
        "\n",
        "plt.xlabel('Feature Importance')\n",
        "plt.title(f'Top {top_n} Feature Importance Plot')\n",
        "plt.tight_layout()\n",
        "plt.show()"
      ]
    },
    {
      "cell_type": "markdown",
      "metadata": {
        "id": "dxBOWGuf6aRY"
      },
      "source": [
        "# Character based TF-IDF"
      ]
    },
    {
      "cell_type": "code",
      "execution_count": 11,
      "metadata": {
        "colab": {
          "base_uri": "https://localhost:8080/",
          "height": 607
        },
        "id": "SJPuoBuFg7Ej",
        "outputId": "080ce7ce-7c7b-4f6d-d910-d43e87e5d1f0"
      },
      "outputs": [
        {
          "data": {
            "image/png": "[encoded data removed]",
            "text/plain": [
              "<Figure size 576x432 with 1 Axes>"
            ]
          },
          "metadata": {
            "needs_background": "light"
          },
          "output_type": "display_data"
        }
      ],
      "source": [
        "feature_importance = insult_lr_c.coef_[0]\n",
        "\n",
        "actual_feature_names = tfidf_c.get_feature_names_out()\n",
        "\n",
        "# Sort feature importance and corresponding names\n",
        "sorted_idx = np.argsort(np.abs(feature_importance))\n",
        "sorted_feature_importance = feature_importance[sorted_idx]\n",
        "sorted_actual_feature_names = np.array(actual_feature_names)[sorted_idx]\n",
        "\n",
        "# Get the indices of top N features based on their importance\n",
        "top_n = 20  # Number of top features to display\n",
        "top_indices = sorted_idx[-top_n:]\n",
        "top_feature_importance = sorted_feature_importance[-top_n:]\n",
        "top_feature_names = sorted_actual_feature_names[-top_n:]\n",
        "\n",
        "# Plotting top N feature importance\n",
        "plt.figure(figsize=(8, 6))  # Adjust figure size if needed\n",
        "plt.barh(range(len(top_feature_importance)), top_feature_importance, align='center')\n",
        "plt.yticks(range(len(top_feature_importance)), top_feature_names)\n",
        "\n",
        "# Rotate Y-axis labels for better readability\n",
        "plt.tick_params(axis='y', rotation=0)\n",
        "\n",
        "plt.xlabel('Feature Importance')\n",
        "plt.title(f'Top {top_n} Feature Importance Plot')\n",
        "plt.tight_layout()\n",
        "plt.show()"
      ]
    },
    {
      "cell_type": "markdown",
      "metadata": {
        "id": "W5dm-qP-6gjt"
      },
      "source": [
        "# Model testing (Manual)"
      ]
    },
    {
      "cell_type": "code",
      "execution_count": 12,
      "metadata": {
        "colab": {
          "base_uri": "https://localhost:8080/"
        },
        "id": "Q08ap4PdyXxW",
        "outputId": "ef0272cb-6391-4ddd-9d1b-c14578e58424"
      },
      "outputs": [
        {
          "name": "stdout",
          "output_type": "stream",
          "text": [
            "[0]\n"
          ]
        }
      ],
      "source": [
        "data_input = np.array([\"Adolf Husein Hitler is a zionist\"])\n",
        "\n",
        "output_data = tfidf_w.transform(data_input)\n",
        "\n",
        "output_data_pred = insult_lr_w.predict(output_data)\n",
        "print(output_data_pred)\n"
      ]
    },
    {
      "cell_type": "markdown",
      "metadata": {
        "id": "o63-ZNXu6khy"
      },
      "source": [
        "## 4.2. K-Neighbors Model"
      ]
    },
    {
      "cell_type": "code",
      "execution_count": 13,
      "metadata": {
        "colab": {
          "base_uri": "https://localhost:8080/",
          "height": 74
        },
        "id": "uAg_flA9m1U9",
        "outputId": "88fe9b06-8994-421d-ca9b-9b24970164d0"
      },
      "outputs": [
        {
          "data": {
            "text/html": [
              "<style>#sk-container-id-1 {color: black;}#sk-container-id-1 pre{padding: 0;}#sk-container-id-1 div.sk-toggleable {background-color: white;}#sk-container-id-1 label.sk-toggleable__label {cursor: pointer;display: block;width: 100%;margin-bottom: 0;padding: 0.3em;box-sizing: border-box;text-align: center;}#sk-container-id-1 label.sk-toggleable__label-arrow:before {content: \"▸\";float: left;margin-right: 0.25em;color: #696969;}#sk-container-id-1 label.sk-toggleable__label-arrow:hover:before {color: black;}#sk-container-id-1 div.sk-estimator:hover label.sk-toggleable__label-arrow:before {color: black;}#sk-container-id-1 div.sk-toggleable__content {max-height: 0;max-width: 0;overflow: hidden;text-align: left;background-color: #f0f8ff;}#sk-container-id-1 div.sk-toggleable__content pre {margin: 0.2em;color: black;border-radius: 0.25em;background-color: #f0f8ff;}#sk-container-id-1 input.sk-toggleable__control:checked~div.sk-toggleable__content {max-height: 200px;max-width: 100%;overflow: auto;}#sk-container-id-1 input.sk-toggleable__control:checked~label.sk-toggleable__label-arrow:before {content: \"▾\";}#sk-container-id-1 div.sk-estimator input.sk-toggleable__control:checked~label.sk-toggleable__label {background-color: #d4ebff;}#sk-container-id-1 div.sk-label input.sk-toggleable__control:checked~label.sk-toggleable__label {background-color: #d4ebff;}#sk-container-id-1 input.sk-hidden--visually {border: 0;clip: rect(1px 1px 1px 1px);clip: rect(1px, 1px, 1px, 1px);height: 1px;margin: -1px;overflow: hidden;padding: 0;position: absolute;width: 1px;}#sk-container-id-1 div.sk-estimator {font-family: monospace;background-color: #f0f8ff;border: 1px dotted black;border-radius: 0.25em;box-sizing: border-box;margin-bottom: 0.5em;}#sk-container-id-1 div.sk-estimator:hover {background-color: #d4ebff;}#sk-container-id-1 div.sk-parallel-item::after {content: \"\";width: 100%;border-bottom: 1px solid gray;flex-grow: 1;}#sk-container-id-1 div.sk-label:hover label.sk-toggleable__label {background-color: #d4ebff;}#sk-container-id-1 div.sk-serial::before {content: \"\";position: absolute;border-left: 1px solid gray;box-sizing: border-box;top: 0;bottom: 0;left: 50%;z-index: 0;}#sk-container-id-1 div.sk-serial {display: flex;flex-direction: column;align-items: center;background-color: white;padding-right: 0.2em;padding-left: 0.2em;position: relative;}#sk-container-id-1 div.sk-item {position: relative;z-index: 1;}#sk-container-id-1 div.sk-parallel {display: flex;align-items: stretch;justify-content: center;background-color: white;position: relative;}#sk-container-id-1 div.sk-item::before, #sk-container-id-1 div.sk-parallel-item::before {content: \"\";position: absolute;border-left: 1px solid gray;box-sizing: border-box;top: 0;bottom: 0;left: 50%;z-index: -1;}#sk-container-id-1 div.sk-parallel-item {display: flex;flex-direction: column;z-index: 1;position: relative;background-color: white;}#sk-container-id-1 div.sk-parallel-item:first-child::after {align-self: flex-end;width: 50%;}#sk-container-id-1 div.sk-parallel-item:last-child::after {align-self: flex-start;width: 50%;}#sk-container-id-1 div.sk-parallel-item:only-child::after {width: 0;}#sk-container-id-1 div.sk-dashed-wrapped {border: 1px dashed gray;margin: 0 0.4em 0.5em 0.4em;box-sizing: border-box;padding-bottom: 0.4em;background-color: white;}#sk-container-id-1 div.sk-label label {font-family: monospace;font-weight: bold;display: inline-block;line-height: 1.2em;}#sk-container-id-1 div.sk-label-container {text-align: center;}#sk-container-id-1 div.sk-container {/* jupyter's `normalize.less` sets `[hidden] { display: none; }` but bootstrap.min.css set `[hidden] { display: none !important; }` so we also need the `!important` here to be able to override the default hidden behavior on the sphinx rendered scikit-learn.org. See: https://github.com/scikit-learn/scikit-learn/issues/21755 */display: inline-block !important;position: relative;}#sk-container-id-1 div.sk-text-repr-fallback {display: none;}</style><div id=\"sk-container-id-1\" class=\"sk-top-container\"><div class=\"sk-text-repr-fallback\"><pre>KNeighborsClassifier(n_neighbors=10)</pre><b>In a Jupyter environment, please rerun this cell to show the HTML representation or trust the notebook. <br />On GitHub, the HTML representation is unable to render, please try loading this page with nbviewer.org.</b></div><div class=\"sk-container\" hidden><div class=\"sk-item\"><div class=\"sk-estimator sk-toggleable\"><input class=\"sk-toggleable__control sk-hidden--visually\" id=\"sk-estimator-id-1\" type=\"checkbox\" checked><label for=\"sk-estimator-id-1\" class=\"sk-toggleable__label sk-toggleable__label-arrow\">KNeighborsClassifier</label><div class=\"sk-toggleable__content\"><pre>KNeighborsClassifier(n_neighbors=10)</pre></div></div></div></div></div>"
            ],
            "text/plain": [
              "KNeighborsClassifier(n_neighbors=10)"
            ]
          },
          "execution_count": 13,
          "metadata": {},
          "output_type": "execute_result"
        }
      ],
      "source": [
        "knn_w_classifier = KNeighborsClassifier(n_neighbors=10)\n",
        "knn_c_classifier = KNeighborsClassifier(n_neighbors=10)\n",
        "\n",
        "knn_w_classifier.fit(ptrain_data_w, train[\"Insult\"])\n",
        "knn_c_classifier.fit(ptrain_data_c, train[\"Insult\"])\n"
      ]
    },
    {
      "cell_type": "code",
      "execution_count": 14,
      "metadata": {},
      "outputs": [
        {
          "name": "stderr",
          "output_type": "stream",
          "text": [
            "Exception in thread Thread-6 (_readerthread):\n",
            "Traceback (most recent call last):\n",
            "  File \"c:\\Program Files\\Python310\\lib\\threading.py\", line 1009, in _bootstrap_inner\n",
            "    self.run()\n",
            "  File \"c:\\Program Files\\Python310\\lib\\threading.py\", line 946, in run\n",
            "    self._target(*self._args, **self._kwargs)\n",
            "  File \"c:\\Program Files\\Python310\\lib\\subprocess.py\", line 1494, in _readerthread\n",
            "    buffer.append(fh.read())\n",
            "  File \"c:\\Program Files\\Python310\\lib\\encodings\\cp1252.py\", line 23, in decode\n",
            "    return codecs.charmap_decode(input,self.errors,decoding_table)[0]\n",
            "UnicodeDecodeError: 'charmap' codec can't decode byte 0x81 in position 3: character maps to <undefined>\n",
            "c:\\Program Files\\Python310\\lib\\site-packages\\joblib\\externals\\loky\\backend\\context.py:110: UserWarning: Could not find the number of physical cores for the following reason:\n",
            "found 0 physical cores < 1\n",
            "Returning the number of logical cores instead. You can silence this warning by setting LOKY_MAX_CPU_COUNT to the number of cores you want to use.\n",
            "  warnings.warn(\n",
            "  File \"c:\\Program Files\\Python310\\lib\\site-packages\\joblib\\externals\\loky\\backend\\context.py\", line 217, in _count_physical_cores\n",
            "    raise ValueError(\n"
          ]
        }
      ],
      "source": [
        "predicted_knn_w = knn_w_classifier.predict(ptest_data_w)\n",
        "predicted_knn_c = knn_c_classifier.predict(ptest_data_c)"
      ]
    },
    {
      "cell_type": "code",
      "execution_count": 15,
      "metadata": {},
      "outputs": [
        {
          "name": "stdout",
          "output_type": "stream",
          "text": [
            "K-Neighbors (Word Gram): 0.7448206164729662\n",
            "K-Neighbors (Char Gram): 0.8024254674077818\n"
          ]
        }
      ],
      "source": [
        "print('K-Neighbors (Word Gram):', np.mean(predicted_knn_w == test[\"Insult\"]))\n",
        "print('K-Neighbors (Char Gram):', np.mean(predicted_knn_c == test[\"Insult\"]))"
      ]
    },
    {
      "cell_type": "markdown",
      "metadata": {
        "id": "DCA5EGqf0YZY"
      },
      "source": [
        "## 4.3. RoBERTa Model\n",
        "\n",
        "# [Click here to open the RoBERTa notebook](./Roberta.ipynb)\n"
      ]
    },
    {
      "cell_type": "markdown",
      "metadata": {
        "id": "L2BrhMO-7KZt"
      },
      "source": [
        "## 5. Interpretation"
      ]
    },
    {
      "cell_type": "code",
      "execution_count": null,
      "metadata": {
        "id": "bii0j-tS-0l0"
      },
      "outputs": [],
      "source": []
    }
  ],
  "metadata": {
    "accelerator": "TPU",
    "colab": {
      "provenance": []
    },
    "kernelspec": {
      "display_name": "Python 3",
      "name": "python3"
    },
    "language_info": {
      "codemirror_mode": {
        "name": "ipython",
        "version": 3
      },
      "file_extension": ".py",
      "mimetype": "text/x-python",
      "name": "python",
      "nbconvert_exporter": "python",
      "pygments_lexer": "ipython3",
      "version": "3.10.4"
    }
  },
  "nbformat": 4,
  "nbformat_minor": 0
}
