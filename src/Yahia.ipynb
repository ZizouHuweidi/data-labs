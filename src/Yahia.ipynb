{
 "cells": [
  {
   "cell_type": "markdown",
   "metadata": {},
   "source": [
    "### "
   ]
  },
  {
   "cell_type": "code",
   "execution_count": 57,
   "metadata": {},
   "outputs": [
    {
     "data": {
      "text/html": [
       "<div>\n",
       "<style scoped>\n",
       "    .dataframe tbody tr th:only-of-type {\n",
       "        vertical-align: middle;\n",
       "    }\n",
       "\n",
       "    .dataframe tbody tr th {\n",
       "        vertical-align: top;\n",
       "    }\n",
       "\n",
       "    .dataframe thead th {\n",
       "        text-align: right;\n",
       "    }\n",
       "</style>\n",
       "<table border=\"1\" class=\"dataframe\">\n",
       "  <thead>\n",
       "    <tr style=\"text-align: right;\">\n",
       "      <th></th>\n",
       "      <th>Insult</th>\n",
       "      <th>Date</th>\n",
       "      <th>Comment</th>\n",
       "    </tr>\n",
       "  </thead>\n",
       "  <tbody>\n",
       "    <tr>\n",
       "      <th>0</th>\n",
       "      <td>1</td>\n",
       "      <td>20120618192155Z</td>\n",
       "      <td>\"You fuck your dad.\"</td>\n",
       "    </tr>\n",
       "    <tr>\n",
       "      <th>1</th>\n",
       "      <td>0</td>\n",
       "      <td>20120528192215Z</td>\n",
       "      <td>\"i really don't understand your point.\\xa0 It ...</td>\n",
       "    </tr>\n",
       "    <tr>\n",
       "      <th>2</th>\n",
       "      <td>0</td>\n",
       "      <td>NaN</td>\n",
       "      <td>\"A\\\\xc2\\\\xa0majority of Canadians can and has ...</td>\n",
       "    </tr>\n",
       "    <tr>\n",
       "      <th>3</th>\n",
       "      <td>0</td>\n",
       "      <td>NaN</td>\n",
       "      <td>\"listen if you dont wanna get married to a man...</td>\n",
       "    </tr>\n",
       "    <tr>\n",
       "      <th>4</th>\n",
       "      <td>0</td>\n",
       "      <td>20120619094753Z</td>\n",
       "      <td>\"C\\xe1c b\\u1ea1n xu\\u1ed1ng \\u0111\\u01b0\\u1edd...</td>\n",
       "    </tr>\n",
       "    <tr>\n",
       "      <th>5</th>\n",
       "      <td>0</td>\n",
       "      <td>20120620171226Z</td>\n",
       "      <td>\"@SDL OK, but I would hope they'd sign him to ...</td>\n",
       "    </tr>\n",
       "    <tr>\n",
       "      <th>6</th>\n",
       "      <td>0</td>\n",
       "      <td>20120503012628Z</td>\n",
       "      <td>\"Yeah and where are you now?\"</td>\n",
       "    </tr>\n",
       "    <tr>\n",
       "      <th>7</th>\n",
       "      <td>1</td>\n",
       "      <td>NaN</td>\n",
       "      <td>\"shut the fuck up. you and the rest of your fa...</td>\n",
       "    </tr>\n",
       "    <tr>\n",
       "      <th>8</th>\n",
       "      <td>1</td>\n",
       "      <td>20120502173553Z</td>\n",
       "      <td>\"Either you are fake or extremely stupid...may...</td>\n",
       "    </tr>\n",
       "    <tr>\n",
       "      <th>9</th>\n",
       "      <td>1</td>\n",
       "      <td>20120620160512Z</td>\n",
       "      <td>\"That you are an idiot who understands neither...</td>\n",
       "    </tr>\n",
       "    <tr>\n",
       "      <th>10</th>\n",
       "      <td>0</td>\n",
       "      <td>20120620015140Z</td>\n",
       "      <td>\"@jdstorm dont wish him injury but it happened...</td>\n",
       "    </tr>\n",
       "    <tr>\n",
       "      <th>11</th>\n",
       "      <td>0</td>\n",
       "      <td>20120530044519Z</td>\n",
       "      <td>\"Be careful,Jimbo.OG has a fork with your name...</td>\n",
       "    </tr>\n",
       "    <tr>\n",
       "      <th>12</th>\n",
       "      <td>0</td>\n",
       "      <td>NaN</td>\n",
       "      <td>\"@tonnyb  Or they just don't pay attention \"</td>\n",
       "    </tr>\n",
       "    <tr>\n",
       "      <th>13</th>\n",
       "      <td>0</td>\n",
       "      <td>NaN</td>\n",
       "      <td>\"Hmmm. Perhaps some who are too pig-faced to g...</td>\n",
       "    </tr>\n",
       "    <tr>\n",
       "      <th>14</th>\n",
       "      <td>0</td>\n",
       "      <td>NaN</td>\n",
       "      <td>\"@barrettmarson Huh? Her income was $21,912. H...</td>\n",
       "    </tr>\n",
       "    <tr>\n",
       "      <th>15</th>\n",
       "      <td>1</td>\n",
       "      <td>20120611090207Z</td>\n",
       "      <td>\"FOR SOME REASON U SOUND RETARDED. LOL. DAMN. ...</td>\n",
       "    </tr>\n",
       "    <tr>\n",
       "      <th>16</th>\n",
       "      <td>1</td>\n",
       "      <td>20120320162532Z</td>\n",
       "      <td>\"You with the 'racist' screen name\\n\\nYou are ...</td>\n",
       "    </tr>\n",
       "    <tr>\n",
       "      <th>17</th>\n",
       "      <td>0</td>\n",
       "      <td>NaN</td>\n",
       "      <td>\"Oh! &amp; cheating as well...1966 cup was a cheat...</td>\n",
       "    </tr>\n",
       "    <tr>\n",
       "      <th>18</th>\n",
       "      <td>1</td>\n",
       "      <td>20120320075347Z</td>\n",
       "      <td>\"your such a dickhead...\"</td>\n",
       "    </tr>\n",
       "    <tr>\n",
       "      <th>19</th>\n",
       "      <td>1</td>\n",
       "      <td>20120320203947Z</td>\n",
       "      <td>\"Your a retard go post your head up your #%&amp;*\"</td>\n",
       "    </tr>\n",
       "  </tbody>\n",
       "</table>\n",
       "</div>"
      ],
      "text/plain": [
       "    Insult             Date                                            Comment\n",
       "0        1  20120618192155Z                               \"You fuck your dad.\"\n",
       "1        0  20120528192215Z  \"i really don't understand your point.\\xa0 It ...\n",
       "2        0              NaN  \"A\\\\xc2\\\\xa0majority of Canadians can and has ...\n",
       "3        0              NaN  \"listen if you dont wanna get married to a man...\n",
       "4        0  20120619094753Z  \"C\\xe1c b\\u1ea1n xu\\u1ed1ng \\u0111\\u01b0\\u1edd...\n",
       "5        0  20120620171226Z  \"@SDL OK, but I would hope they'd sign him to ...\n",
       "6        0  20120503012628Z                      \"Yeah and where are you now?\"\n",
       "7        1              NaN  \"shut the fuck up. you and the rest of your fa...\n",
       "8        1  20120502173553Z  \"Either you are fake or extremely stupid...may...\n",
       "9        1  20120620160512Z  \"That you are an idiot who understands neither...\n",
       "10       0  20120620015140Z  \"@jdstorm dont wish him injury but it happened...\n",
       "11       0  20120530044519Z  \"Be careful,Jimbo.OG has a fork with your name...\n",
       "12       0              NaN       \"@tonnyb  Or they just don't pay attention \"\n",
       "13       0              NaN  \"Hmmm. Perhaps some who are too pig-faced to g...\n",
       "14       0              NaN  \"@barrettmarson Huh? Her income was $21,912. H...\n",
       "15       1  20120611090207Z  \"FOR SOME REASON U SOUND RETARDED. LOL. DAMN. ...\n",
       "16       1  20120320162532Z  \"You with the 'racist' screen name\\n\\nYou are ...\n",
       "17       0              NaN  \"Oh! & cheating as well...1966 cup was a cheat...\n",
       "18       1  20120320075347Z                          \"your such a dickhead...\"\n",
       "19       1  20120320203947Z     \"Your a retard go post your head up your #%&*\""
      ]
     },
     "execution_count": 57,
     "metadata": {},
     "output_type": "execute_result"
    }
   ],
   "source": [
    "import pandas as pd\n",
    "\n",
    "df = pd.read_csv('../data/train.csv')\n",
    "df.head(20)"
   ]
  },
  {
   "cell_type": "code",
   "execution_count": 66,
   "metadata": {},
   "outputs": [
    {
     "name": "stdout",
     "output_type": "stream",
     "text": [
      "0    2898\n",
      "1    1049\n",
      "Name: Insult, dtype: int64\n"
     ]
    },
    {
     "data": {
      "image/png": "[encoded data removed]",
      "text/plain": [
       "<Figure size 640x480 with 1 Axes>"
      ]
     },
     "metadata": {},
     "output_type": "display_data"
    }
   ],
   "source": [
    "# from Insults, show me how many 1 and 0 i have\n",
    "num = df['Insult'].value_counts()\n",
    "\n",
    "print(num)\n",
    "\n",
    "plot = pd.DataFrame({'Comments':['Insults', 'No Insults'], 'val':[num[0], num[1]]})\n",
    "ax = plot.plot.bar(title='Number of insults',x='Comments', y='val', rot=0)\n"
   ]
  },
  {
   "cell_type": "code",
   "execution_count": 35,
   "metadata": {},
   "outputs": [
    {
     "name": "stdout",
     "output_type": "stream",
     "text": [
      "['arse', 'arsehole', 'as useful as tits on a bull', 'balls', 'bastard', 'beaver', 'beef curtains', 'bell', 'bellend', 'bent', 'berk', 'bint', 'bitch', 'blighter', 'blimey', \"blimey o'reilly\", 'bloodclaat', 'bloody', 'bloody hell', 'blooming', 'bollocks', 'bonk', 'bugger', 'bugger me', 'bugger off', 'built like a brick shit-house', 'bukkake', 'bullshit', 'cack', 'cad', 'chav', 'cheese eating surrender monkey', 'choad', 'chuffer', 'clunge', 'cobblers', 'cock', 'cock cheese', 'cock jockey', 'cock-up', 'cocksucker', 'cockwomble', 'codger', 'cor blimey', 'corey', 'cow', 'crap', 'crikey', 'cunt', 'daft', 'daft cow', 'damn', 'dick', 'dickhead', 'did he bollocks!', 'did i fuck as like!', 'dildo', 'dodgy', 'duffer', 'fanny', 'feck', 'flaps', 'fuck', 'fuck me sideways!', 'fucking cunt', 'fucktard', 'gash', 'ginger', 'git', 'gob shite', 'goddam', 'gorblimey', 'gordon bennett', 'gormless', 'he’s a knob', 'hell', 'hobknocker', \"I'd rather snort my own cum\", 'jesus christ', 'jizz', 'knob', 'knobber', 'knobend', 'knobhead', 'ligger', \"like fucking a dying man's handshake\", 'mad as a hatter', 'manky', 'minge', 'minger', 'minging', 'motherfucker', 'munter', 'muppet', 'naff', 'nitwit', 'nonce', 'numpty', 'nutter', 'off their rocker', 'penguin', 'pillock', 'pish', 'piss off', 'piss-flaps', 'pissed', 'pissed off', 'play the five-fingered flute', 'plonker', 'ponce', 'poof', 'pouf', 'poxy', 'prat', 'prick', 'prick', 'prickteaser', 'punani', 'punny', 'pussy', 'randy', 'rapey', 'rat arsed', 'rotter', 'rubbish', 'scrubber', 'shag', 'shit', 'shite', 'shitfaced', 'skank', 'slag', 'slapper', 'slut', 'snatch', 'sod', 'sod-off', 'son of a bitch', 'spunk', 'stick it up your arse!', 'swine', 'taking the piss', 'tart', 'tits', 'toff', 'tosser', 'trollop', 'tuss', 'twat', 'twonk', 'u fukin wanker', 'wally', 'wanker', 'wankstain', 'wazzack', 'whore']\n"
     ]
    }
   ],
   "source": [
    "insults = []\n",
    "with open('../insults.txt', 'r') as fd:\n",
    "    for line in fd:\n",
    "        insults.append(line.strip())\n",
    "\n",
    "print(insults)"
   ]
  },
  {
   "cell_type": "code",
   "execution_count": 45,
   "metadata": {},
   "outputs": [
    {
     "data": {
      "text/html": [
       "<div>\n",
       "<style scoped>\n",
       "    .dataframe tbody tr th:only-of-type {\n",
       "        vertical-align: middle;\n",
       "    }\n",
       "\n",
       "    .dataframe tbody tr th {\n",
       "        vertical-align: top;\n",
       "    }\n",
       "\n",
       "    .dataframe thead th {\n",
       "        text-align: right;\n",
       "    }\n",
       "</style>\n",
       "<table border=\"1\" class=\"dataframe\">\n",
       "  <thead>\n",
       "    <tr style=\"text-align: right;\">\n",
       "      <th></th>\n",
       "      <th>Insult</th>\n",
       "      <th>Date</th>\n",
       "      <th>Comment</th>\n",
       "    </tr>\n",
       "  </thead>\n",
       "  <tbody>\n",
       "  </tbody>\n",
       "</table>\n",
       "</div>"
      ],
      "text/plain": [
       "Empty DataFrame\n",
       "Columns: [Insult, Date, Comment]\n",
       "Index: []"
      ]
     },
     "execution_count": 45,
     "metadata": {},
     "output_type": "execute_result"
    }
   ],
   "source": [
    "df_1 = df.dropna()\n",
    "df_clean = df_1.query('Insult!=0')\n",
    "\n",
    "\n",
    "for i in range(len(insults)):\n",
    "    df_cleaner = df_clean.query('Comment == @insults[@i]')\n",
    "df_cleaner.head(20)\n"
   ]
  },
  {
   "cell_type": "markdown",
   "metadata": {},
   "source": []
  }
 ],
 "metadata": {
  "kernelspec": {
   "display_name": "Torch",
   "language": "python",
   "name": "python3"
  },
  "language_info": {
   "codemirror_mode": {
    "name": "ipython",
    "version": 3
   },
   "file_extension": ".py",
   "mimetype": "text/x-python",
   "name": "python",
   "nbconvert_exporter": "python",
   "pygments_lexer": "ipython3",
   "version": "3.10.8"
  },
  "orig_nbformat": 4
 },
 "nbformat": 4,
 "nbformat_minor": 2
}
