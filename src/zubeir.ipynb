{
 "cells": [
  {
   "cell_type": "code",
   "execution_count": 3,
   "metadata": {},
   "outputs": [
    {
     "ename": "OSError",
     "evalue": "cannot open resource",
     "output_type": "error",
     "traceback": [
      "\u001b[0;31m---------------------------------------------------------------------------\u001b[0m",
      "\u001b[0;31mOSError\u001b[0m                                   Traceback (most recent call last)",
      "\u001b[1;32m/home/zizou/uni/analytics/labs/src/zubeir.ipynb Cell 1\u001b[0m line \u001b[0;36m1\n\u001b[1;32m      <a href='vscode-notebook-cell:/home/zizou/uni/analytics/labs/src/zubeir.ipynb#W0sZmlsZQ%3D%3D?line=6'>7</a>\u001b[0m text \u001b[39m=\u001b[39m df\u001b[39m.\u001b[39mto_string(index\u001b[39m=\u001b[39m\u001b[39mFalse\u001b[39;00m)\n\u001b[1;32m      <a href='vscode-notebook-cell:/home/zizou/uni/analytics/labs/src/zubeir.ipynb#W0sZmlsZQ%3D%3D?line=8'>9</a>\u001b[0m \u001b[39m# Generate a word cloud image\u001b[39;00m\n\u001b[0;32m---> <a href='vscode-notebook-cell:/home/zizou/uni/analytics/labs/src/zubeir.ipynb#W0sZmlsZQ%3D%3D?line=9'>10</a>\u001b[0m wordcloud \u001b[39m=\u001b[39m WordCloud()\u001b[39m.\u001b[39;49mgenerate(text)\n\u001b[1;32m     <a href='vscode-notebook-cell:/home/zizou/uni/analytics/labs/src/zubeir.ipynb#W0sZmlsZQ%3D%3D?line=11'>12</a>\u001b[0m plt\u001b[39m.\u001b[39mimshow(wordcloud, interpolation\u001b[39m=\u001b[39m\u001b[39m\"\u001b[39m\u001b[39mbilinear\u001b[39m\u001b[39m\"\u001b[39m)\n\u001b[1;32m     <a href='vscode-notebook-cell:/home/zizou/uni/analytics/labs/src/zubeir.ipynb#W0sZmlsZQ%3D%3D?line=12'>13</a>\u001b[0m plt\u001b[39m.\u001b[39mshow()\n",
      "File \u001b[0;32m/usr/lib/python3.11/site-packages/wordcloud/wordcloud.py:639\u001b[0m, in \u001b[0;36mgenerate\u001b[0;34m(self, text)\u001b[0m\n",
      "File \u001b[0;32m/usr/lib/python3.11/site-packages/wordcloud/wordcloud.py:621\u001b[0m, in \u001b[0;36mgenerate_from_text\u001b[0;34m(self, text)\u001b[0m\n",
      "File \u001b[0;32m/usr/lib/python3.11/site-packages/wordcloud/wordcloud.py:453\u001b[0m, in \u001b[0;36mgenerate_from_frequencies\u001b[0;34m(self, frequencies, max_font_size)\u001b[0m\n",
      "File \u001b[0;32m/usr/lib/python3.11/site-packages/wordcloud/wordcloud.py:503\u001b[0m, in \u001b[0;36mgenerate_from_frequencies\u001b[0;34m(self, frequencies, max_font_size)\u001b[0m\n",
      "File \u001b[0;32m/usr/lib/python3.11/site-packages/PIL/ImageFont.py:791\u001b[0m, in \u001b[0;36mtruetype\u001b[0;34m(font, size, index, encoding, layout_engine)\u001b[0m\n\u001b[1;32m    788\u001b[0m     \u001b[39mreturn\u001b[39;00m FreeTypeFont(font, size, index, encoding, layout_engine)\n\u001b[1;32m    790\u001b[0m \u001b[39mtry\u001b[39;00m:\n\u001b[0;32m--> 791\u001b[0m     \u001b[39mreturn\u001b[39;00m freetype(font)\n\u001b[1;32m    792\u001b[0m \u001b[39mexcept\u001b[39;00m \u001b[39mOSError\u001b[39;00m:\n\u001b[1;32m    793\u001b[0m     \u001b[39mif\u001b[39;00m \u001b[39mnot\u001b[39;00m is_path(font):\n",
      "File \u001b[0;32m/usr/lib/python3.11/site-packages/PIL/ImageFont.py:788\u001b[0m, in \u001b[0;36mtruetype.<locals>.freetype\u001b[0;34m(font)\u001b[0m\n\u001b[1;32m    787\u001b[0m \u001b[39mdef\u001b[39;00m \u001b[39mfreetype\u001b[39m(font):\n\u001b[0;32m--> 788\u001b[0m     \u001b[39mreturn\u001b[39;00m FreeTypeFont(font, size, index, encoding, layout_engine)\n",
      "File \u001b[0;32m/usr/lib/python3.11/site-packages/PIL/ImageFont.py:226\u001b[0m, in \u001b[0;36mFreeTypeFont.__init__\u001b[0;34m(self, font, size, index, encoding, layout_engine)\u001b[0m\n\u001b[1;32m    224\u001b[0m                 load_from_bytes(f)\n\u001b[1;32m    225\u001b[0m             \u001b[39mreturn\u001b[39;00m\n\u001b[0;32m--> 226\u001b[0m     \u001b[39mself\u001b[39m\u001b[39m.\u001b[39mfont \u001b[39m=\u001b[39m core\u001b[39m.\u001b[39;49mgetfont(\n\u001b[1;32m    227\u001b[0m         font, size, index, encoding, layout_engine\u001b[39m=\u001b[39;49mlayout_engine\n\u001b[1;32m    228\u001b[0m     )\n\u001b[1;32m    229\u001b[0m \u001b[39melse\u001b[39;00m:\n\u001b[1;32m    230\u001b[0m     load_from_bytes(font)\n",
      "\u001b[0;31mOSError\u001b[0m: cannot open resource"
     ]
    }
   ],
   "source": [
    "from wordcloud import WordCloud\n",
    "import matplotlib.pyplot as plt\n",
    "import pandas as pd\n",
    "\n",
    "df = pd.read_csv('../data/train.csv')\n",
    "\n",
    "text = df.to_string(index=False)\n",
    "\n",
    "# Generate a word cloud image\n",
    "wordcloud = WordCloud().generate(text)\n",
    "\n",
    "plt.imshow(wordcloud, interpolation=\"bilinear\")\n",
    "plt.show()\n"
   ]
  }
 ],
 "metadata": {
  "kernelspec": {
   "display_name": "Python 3",
   "language": "python",
   "name": "python3"
  },
  "language_info": {
   "codemirror_mode": {
    "name": "ipython",
    "version": 3
   },
   "file_extension": ".py",
   "mimetype": "text/x-python",
   "name": "python",
   "nbconvert_exporter": "python",
   "pygments_lexer": "ipython3",
   "version": "3.11.5"
  },
  "orig_nbformat": 4
 },
 "nbformat": 4,
 "nbformat_minor": 2
}
